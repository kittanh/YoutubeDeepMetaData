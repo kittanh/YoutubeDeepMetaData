{
 "cells": [
  {
   "cell_type": "code",
   "execution_count": 1,
   "metadata": {},
   "outputs": [
    {
     "name": "stdout",
     "output_type": "stream",
     "text": [
      "(720, 1280, 3)\n",
      "(3, 720, 1280)\n",
      "<class 'numpy.ndarray'>\n",
      "(720, 1280, 3)\n",
      "(3, 720, 1280)\n",
      "<class 'numpy.ndarray'>\n",
      "(720, 1280, 3)\n",
      "(3, 720, 1280)\n",
      "<class 'numpy.ndarray'>\n",
      "(720, 1280, 3)\n",
      "(3, 720, 1280)\n",
      "<class 'numpy.ndarray'>\n",
      "(720, 1280, 3)\n",
      "(3, 720, 1280)\n",
      "<class 'numpy.ndarray'>\n",
      "(720, 1280, 3)\n",
      "(3, 720, 1280)\n",
      "<class 'numpy.ndarray'>\n",
      "(720, 1280, 3)\n",
      "(3, 720, 1280)\n",
      "<class 'numpy.ndarray'>\n",
      "(720, 1280, 3)\n",
      "(3, 720, 1280)\n",
      "<class 'numpy.ndarray'>\n",
      "(720, 1280, 3)\n",
      "(3, 720, 1280)\n",
      "<class 'numpy.ndarray'>\n",
      "(720, 1280, 3)\n",
      "(3, 720, 1280)\n",
      "<class 'numpy.ndarray'>\n",
      "(720, 1280, 3)\n",
      "(3, 720, 1280)\n",
      "<class 'numpy.ndarray'>\n",
      "(720, 1280, 3)\n",
      "(3, 720, 1280)\n",
      "<class 'numpy.ndarray'>\n",
      "(720, 1280, 3)\n",
      "(3, 720, 1280)\n",
      "<class 'numpy.ndarray'>\n",
      "(720, 1280, 3)\n",
      "(3, 720, 1280)\n",
      "<class 'numpy.ndarray'>\n",
      "(720, 1280, 3)\n",
      "(3, 720, 1280)\n",
      "<class 'numpy.ndarray'>\n",
      "(720, 1280, 3)\n",
      "(3, 720, 1280)\n",
      "<class 'numpy.ndarray'>\n",
      "(720, 1280, 3)\n",
      "(3, 720, 1280)\n",
      "<class 'numpy.ndarray'>\n",
      "(720, 1280, 3)\n",
      "(3, 720, 1280)\n",
      "<class 'numpy.ndarray'>\n",
      "(720, 1280, 3)\n",
      "(3, 720, 1280)\n",
      "<class 'numpy.ndarray'>\n",
      "(720, 1280, 3)\n",
      "(3, 720, 1280)\n",
      "<class 'numpy.ndarray'>\n"
     ]
    }
   ],
   "source": [
    "import cv2\n",
    "import os\n",
    "import numpy as np\n",
    "\n",
    "# nom de la vidéo\n",
    "video_file = \"Kiri.mp4\"\n",
    "video_dir = 'videos/'\n",
    "# ouvrir la vidéo\n",
    "cap = cv2.VideoCapture(os.path.join(video_dir, video_file))\n",
    "\n",
    "# récupérer le nombre total de frames\n",
    "total_frames = int(cap.get(cv2.CAP_PROP_FRAME_COUNT))\n",
    "\n",
    "# récupérer le délai entre les frames\n",
    "fps = round(float(cap.get(cv2.CAP_PROP_FPS)))\n",
    "\n",
    "# on découpe toutes les 1/divisions secondes\n",
    "division = 1\n",
    "\n",
    "# initialiser le compteur de frames\n",
    "count = 0\n",
    "nb_frame=0\n",
    "list_frames = []\n",
    "# boucle sur les frames\n",
    "while cap.isOpened():\n",
    "    # lire le frame suivant\n",
    "    ret, frame = cap.read()\n",
    "\n",
    "    # sortir de la boucle si on atteint la fin de la vidéo\n",
    "    if not ret:\n",
    "        break\n",
    "\n",
    "    count += 1\n",
    "    # sauvegarder le frame s'il est inclus dans l'intervalle\n",
    "    if count % (fps // division) == 0:\n",
    "        # cv2.imwrite(\"img/img/frame_{}.jpg\".format(count // fps), frame) \n",
    "        print(np.shape(frame))\n",
    "        frame = np.transpose(frame, (2, 0, 1))\n",
    "        print(np.shape(frame))\n",
    "        print(type(frame))\n",
    "        nb_frame +=1\n",
    "        list_frames.append(nb_frame)\n",
    "\n",
    "# libérer la vidéo\n",
    "cap.release()"
   ]
  },
  {
   "cell_type": "code",
   "execution_count": 2,
   "metadata": {},
   "outputs": [
    {
     "data": {
      "text/plain": [
       "20"
      ]
     },
     "execution_count": 2,
     "metadata": {},
     "output_type": "execute_result"
    }
   ],
   "source": [
    "len(list_frames)"
   ]
  },
  {
   "cell_type": "code",
   "execution_count": 3,
   "metadata": {},
   "outputs": [
    {
     "data": {
      "text/plain": [
       "502"
      ]
     },
     "execution_count": 3,
     "metadata": {},
     "output_type": "execute_result"
    }
   ],
   "source": [
    "total_frames"
   ]
  },
  {
   "cell_type": "code",
   "execution_count": 4,
   "metadata": {},
   "outputs": [
    {
     "data": {
      "text/plain": [
       "25"
      ]
     },
     "execution_count": 4,
     "metadata": {},
     "output_type": "execute_result"
    }
   ],
   "source": [
    "fps"
   ]
  },
  {
   "cell_type": "code",
   "execution_count": 2,
   "metadata": {},
   "outputs": [
    {
     "name": "stdout",
     "output_type": "stream",
     "text": [
      "Processing Inside Lenny Kravitz's Brazilian Farm Compound _ Open Door _ Architectural Digest-FlsKjWqu82k.mp4...\n",
      "Processing Kiri.mp4...\n",
      "Processing LES TROIS MOUSQUETAIRES Bande Annonce 4K (2023)-8STFmQCv5hQ.mp4...\n"
     ]
    }
   ],
   "source": [
    "import os\n",
    "\n",
    "video_dir = 'videos/'\n",
    "\n",
    "# list all files in the directory\n",
    "all_files = os.listdir(video_dir)\n",
    "\n",
    "# filter by video files\n",
    "video_files = [f for f in all_files if f.endswith(('.mp4', '.avi', '.mov'))]\n",
    "\n",
    "for video_file in video_files:\n",
    "    # process the video file here\n",
    "    print(f\"Processing {video_file}...\")\n",
    "    # add your code to process the video file"
   ]
  }
 ],
 "metadata": {
  "kernelspec": {
   "display_name": "Python 3",
   "language": "python",
   "name": "python3"
  },
  "language_info": {
   "codemirror_mode": {
    "name": "ipython",
    "version": 3
   },
   "file_extension": ".py",
   "mimetype": "text/x-python",
   "name": "python",
   "nbconvert_exporter": "python",
   "pygments_lexer": "ipython3",
   "version": "3.8.10"
  },
  "orig_nbformat": 4,
  "vscode": {
   "interpreter": {
    "hash": "0284b1e34e494781da6537966084e394639bb3ab30a3ea3d0b2b75175f82c078"
   }
  }
 },
 "nbformat": 4,
 "nbformat_minor": 2
}
